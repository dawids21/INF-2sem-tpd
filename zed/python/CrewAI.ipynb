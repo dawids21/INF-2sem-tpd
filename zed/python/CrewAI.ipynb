{
  "nbformat": 4,
  "nbformat_minor": 0,
  "metadata": {
    "colab": {
      "provenance": []
    },
    "kernelspec": {
      "name": "python3",
      "display_name": "Python 3"
    },
    "language_info": {
      "name": "python"
    }
  },
  "cells": [
    {
      "cell_type": "markdown",
      "source": [
        "# CrewAI\n",
        "\n",
        "Ten notatnik pozwoli Ci zapoznać się z systemami wielo-ageentowymi AI. W trakcie ćwiczenia będziemy wykorzystywać framework [crewAI](https://www.crewai.com/), który omawaliśmy na zajęciach.\n",
        "\n",
        "Po uzupełnieniu tego notatnika powinieneś/powinnaś wiedzieć:\n",
        "- jak tworzyć crew i agentów\n",
        "- jak tworzyć zadania i zlecać ich wykonanie crew\n",
        "- jak tworzyć systemy sekwencyjne i hierarchiczne"
      ],
      "metadata": {
        "id": "h09IzNlT94Nu"
      }
    },
    {
      "cell_type": "markdown",
      "source": [
        "Do wykonania ćwiczeń będą nam potrzebne następujace biblioteki:\n",
        "```\n",
        "crewai crewai_tools\n",
        "```\n",
        "Dodatkowo, będziemy korzystać z openrouter, by wysyłać zapytania do LLMa. Do tego potrzebujemy API key, a także API base (już podane) i nazwy modelu językowego.\n",
        "Nazwa modelu powinna być w wpisana następującej formie: \"openrounter/{nazwa_modelu}\"."
      ],
      "metadata": {
        "id": "AWBerFvKPcSO"
      }
    },
    {
      "cell_type": "code",
      "source": [
        "!pip install crewai crewai_tools"
      ],
      "metadata": {
        "id": "wvLX5_nCm583",
        "collapsed": true
      },
      "execution_count": null,
      "outputs": []
    },
    {
      "cell_type": "code",
      "source": [
        "import os\n",
        "\n",
        "API_KEY = \"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\"\n",
        "API_BASE = \"https://openrouter.ai/api/v1\"\n",
        "MODEL_NAME = \"openrouter/openai/gpt-4o-mini\"\n",
        "\n",
        "\n",
        "os.environ[\"OPENAI_API_KEY\"] = API_KEY\n",
        "os.environ[\"OPENAI_API_BASE\"] = API_BASE"
      ],
      "metadata": {
        "id": "xpkqUQakPb3t"
      },
      "execution_count": null,
      "outputs": []
    },
    {
      "cell_type": "markdown",
      "source": [
        "Gdy już wybraliśmy model, pora na właściwe zadanie -- tworzenie systemu agentowego.\n",
        "\n",
        "Dzisiaj stworzysz system do pisania eseju na zadany temat.\n",
        "\n",
        "## Agenci i narzędzia\n",
        "\n",
        "Zaczniemy od stworzenia agentów. Będziemy potrzebować:\n",
        "- researcher, który będzie przeszukiwać sieć, by znaleźć istotne informacje\n",
        "- planner, który zaplanuje schemat eseju na podstawie treści dostraczonych przez researchera\n",
        "- writer, który napisze esej na podstawie schematu od planera\n",
        "- citation manager, który zadba o odpowiednie sformatowanie cytowań\n",
        "- editor, który sprawdzi esej i przekaże ewentualne uwagi\n"
      ],
      "metadata": {
        "id": "sQXyCiEcTbIN"
      }
    },
    {
      "cell_type": "markdown",
      "source": [
        "Agenci są definiowani poprzez rolę (`role`), cel (`goal`), backstory (`backstory`) oraz narzędzia (`tools`). Dodatkowo, możemy im pozwolić na delegowanie zadań lub też nie (`allow_delegation`). W założeniu, nie będziemy pozwalać na delegowanie i będziemy ustawiać wartość tej zmiennej na `False`.\n",
        "\n"
      ],
      "metadata": {
        "id": "wEY7ecYZX7Q6"
      }
    },
    {
      "cell_type": "markdown",
      "source": [
        "Zacznijmy od tworzenia researchera. Do jego obowiązków będzie należało wyszukiwanie infromacji na zadany przez użytkownika temat. Założmy, że na wyjściu powinien dostarczać listę znalezionych źródeł i krótkie podsumowanie znalezionych informacji."
      ],
      "metadata": {
        "id": "7ol2vyeiXqg1"
      }
    },
    {
      "cell_type": "code",
      "source": [
        "from crewai import Agent, Task, Crew, LLM, Process"
      ],
      "metadata": {
        "id": "lVyIPnTzaLxo"
      },
      "execution_count": null,
      "outputs": []
    },
    {
      "cell_type": "code",
      "source": [
        "researcher = Agent(\n",
        "    role=\"Content Researcher\",\n",
        "    goal=(\n",
        "        \"Provide in-depth, insightful and facutally accurate \"\n",
        "        \"analysis and list of appropriate sources \"\n",
        "        \"on the topic: {topic}.\"\n",
        "    ),\n",
        "    backstory=(\n",
        "        \"An experienced researcher \"\n",
        "        \"able to provide analysis and useful resources on any given topic \"\n",
        "        \"when creating a list of resources researcher might need the help of Citation Manager. \"\n",
        "        \"Researcher provides only existing resources and makes sure they are relevant. \"\n",
        "        \"Researcher's work is the basis for the Content Planner and Content Writer to \"\n",
        "        \"write the outline and the essay.\"\n",
        "    ),\n",
        "    verbose=True,\n",
        "    allow_delegation=False,\n",
        "    max_iterations=2,\n",
        "    llm=LLM(\n",
        "        model=MODEL_NAME,\n",
        "        api_key=os.getenv(\"OPENAI_API_KEY\"),\n",
        "        base_url=API_BASE,\n",
        "        temperature=0.7,\n",
        "    ),\n",
        ")"
      ],
      "metadata": {
        "id": "iazabpA3TaiJ"
      },
      "execution_count": null,
      "outputs": []
    },
    {
      "cell_type": "markdown",
      "source": [
        "Następnie tworzymy plannerai writera.\n",
        "\n",
        "Planner ma za zadanie zaplanować outline eseju.\n",
        "Writer na podstawie takiego outline'u ma napisać esej."
      ],
      "metadata": {
        "id": "1bdflbypcPp7"
      }
    },
    {
      "cell_type": "code",
      "source": [
        "planner = Agent(\n",
        "    role=\"Content Planner\",\n",
        "    goal=\"Plan insightful and factually accurate content on {topic}\",\n",
        "    backstory=(\n",
        "        \"An agent that is working on planning an essay \"\n",
        "        \"on the topic: {topic}.\"\n",
        "        \"Content Planner collects information with the help of Content Researcher. \"\n",
        "        \"Based on the information, Content Planner writes the outline of the essay. \"\n",
        "        \"Content Planner also includes the Researcher's list of sources and relevant information. \"\n",
        "        \"Planner's work is the basis for \"\n",
        "        \"the Content Writer to write an article on this topic.\"\n",
        "    ),\n",
        "    verbose=True,\n",
        "    allow_delegation=False,\n",
        "    max_iterations=2,\n",
        "    llm=LLM(\n",
        "        model=MODEL_NAME,\n",
        "        api_key=os.getenv(\"OPENAI_API_KEY\"),\n",
        "        base_url=API_BASE,\n",
        "        temperature=0.7,\n",
        "    ),\n",
        ")"
      ],
      "metadata": {
        "id": "nkNptytKcFoS"
      },
      "execution_count": null,
      "outputs": []
    },
    {
      "cell_type": "code",
      "source": [
        "writer = Agent(\n",
        "    role=\"Content Writer\",\n",
        "    goal=\"Write insightful and factually accurate essay on the topic: {topic}\",\n",
        "    backstory=(\n",
        "        \"A agent working on a writing \"\n",
        "        \"an essay on the topic: {topic}. \"\n",
        "        \"Content Writer bases their writing on the work of \"\n",
        "        \"the Content Planner, who provides an outline \"\n",
        "        \"and relevant context about the topic. \"\n",
        "        \"Content Writer follows the main objectives and \"\n",
        "        \"direction of the outline, \"\n",
        "        \"provided by the Content Planner. \"\n",
        "        \"Content Writer also provides objective and impartial insights \"\n",
        "        \"and backs them up with information \"\n",
        "        \"provided by the Content Planner. \"\n",
        "        \"Content Writer uses evidence and reasoning. \"\n",
        "        \"Content Writer makes sure to back-up each argument with a proper source, \"\n",
        "        \"provided by Content Planner.\"\n",
        "    ),\n",
        "    verbose=True,\n",
        "    allow_delegation=False,\n",
        "    max_iterations=2,\n",
        "    llm=LLM(\n",
        "        model=MODEL_NAME,\n",
        "        api_key=os.getenv(\"OPENAI_API_KEY\"),\n",
        "        base_url=API_BASE,\n",
        "        temperature=0.7,\n",
        "    ),\n",
        ")"
      ],
      "metadata": {
        "id": "S6VI85w6iMLU"
      },
      "execution_count": null,
      "outputs": []
    },
    {
      "cell_type": "markdown",
      "source": [
        "Tworzymy kolejnego agenta: editora. Editor będzie miał za zadanie poprawiać esej dostarczony przez writera."
      ],
      "metadata": {
        "id": "bI1BN9tefr3B"
      }
    },
    {
      "cell_type": "code",
      "source": [
        "editor = Agent(\n",
        "    role=\"Editor\",\n",
        "    goal=(\n",
        "        \"Edit a given essay on the topic: {topic} to align with \"\n",
        "        \"the writing style of the organization. \"\n",
        "    ),\n",
        "    backstory=(\n",
        "        \"An agent that is an editor who receives an essay \"\n",
        "        \"from the Content Writer. \"\n",
        "        \"Editor's goal is to review the essay \"\n",
        "        \"to ensure that it follows best practices:\"\n",
        "        \"analyzes the topic, defines arguments, uses evidence and reasoning and is written coherently.\"\n",
        "        \"Editor makes sure that the essay provides balanced viewpoints \"\n",
        "        \"and also avoids major controversial topics \"\n",
        "        \"or opinions when possible.\"\n",
        "        \"Editor also checks whether all provided sources actually exist and are used properly.\"\n",
        "        \"Editor makes sure that the cited sources are cited in the MLA style of citations.\"\n",
        "    ),\n",
        "    allow_delegation=False,\n",
        "    verbose=True,\n",
        "    max_iterations=2,\n",
        "    llm=LLM(\n",
        "        model=MODEL_NAME,\n",
        "        api_key=os.getenv(\"OPENAI_API_KEY\"),\n",
        "        base_url=API_BASE,\n",
        "        temperature=0.7,\n",
        "    ),\n",
        ")"
      ],
      "metadata": {
        "id": "uvfXCMX8f-9W"
      },
      "execution_count": null,
      "outputs": []
    },
    {
      "cell_type": "markdown",
      "source": [
        "Ostatnim członkiem naszej załogi będzie citation manager.\n",
        "\n",
        "**Zadanie 1**\n",
        "\n",
        "**Stwórz agenta o roli Citation Manager. Jego celem jest sformatowanie cytowań i źródeł w stylu MLA. Opisz odpoiwednio rolę, cel i backstory dla tego agenta. Następnie ustaw zmienne: `allow_delegation=False`, `verbose=True`, `max_iterations=2`. Przypisz agentowi LLMa opartego na gpt-4o-mini (tak jak w przypadku poprzednio tworzonych agentów).**"
      ],
      "metadata": {
        "id": "ahk-Y4Tliden"
      }
    },
    {
      "cell_type": "code",
      "source": [
        "citation_manager = Agent(\n",
        "   ...\n",
        ")"
      ],
      "metadata": {
        "id": "PtAOCj2eidtA"
      },
      "execution_count": null,
      "outputs": []
    },
    {
      "cell_type": "markdown",
      "source": [
        "## Zadania\n",
        "\n",
        "Teraz tworzymy zadanie dla każdego ze stworzonych agentów.\n",
        "Każde zadanie zawiera opis, oczekiwany output oraz opcjonalnie agenta, który je wykonuje.\n",
        "\n",
        "Kolejno definujemy zadania \"research\", \"plan\", \"write\", \"edit\"."
      ],
      "metadata": {
        "id": "9z1TloONhosy"
      }
    },
    {
      "cell_type": "code",
      "source": [
        "research = Task(\n",
        "    description=(\n",
        "        \"1. Conduct comprehensive research on the topic: {topic}.\\n\"\n",
        "        \"2. Prioritize identifying the latest trends, impactful arguments, and noteworthy news related to {topic}.\\n\"\n",
        "        \"3. Curate a list of relevant and reliable resources to support the essay's arguments.\\n\"\n",
        "        \"4. Organize findings into key categories to assist the Content Planner in developing a structured outline.\\n\"\n",
        "        \"5. Provide a brief summary for each resource explaining its relevance to the topic.\\n\"\n",
        "        \"6. Make sure to only provide factually accurate information.\\n\"\n",
        "    ),\n",
        "    expected_output=(\n",
        "        \"A well-organized research document containing:\\n\"\n",
        "        \"- A categorized summary of key findings.\\n\"\n",
        "        \"- A list of reliable and relevant resources with explanations.\\n\"\n",
        "        \"- Insights into recent trends, impactful arguments, and noteworthy news.\\n\"\n",
        "    ),\n",
        "    agent=researcher,\n",
        ")"
      ],
      "metadata": {
        "id": "yeXKCuSHh3X7"
      },
      "execution_count": null,
      "outputs": []
    },
    {
      "cell_type": "code",
      "source": [
        "plan = Task(\n",
        "    description=(\n",
        "        \"1. Prioritize the latest trends, impactful arguments, \"\n",
        "            \"and noteworthy news on {topic}.\\n\"\n",
        "        \"2. Develop a detailed essay content outline including \"\n",
        "            \"an introduction, key points, and a call to action.\\n\"\n",
        "        \"3. Include SEO keywords and relevant data or sources obtained from the Content Researcher.\\n\"\n",
        "    ),\n",
        "    expected_output=\"A comprehensive content plan document \"\n",
        "        \"with an outline, audience analysis, \"\n",
        "        \"SEO keywords, and properly formatted resources.\",\n",
        "    agent=planner,\n",
        ")"
      ],
      "metadata": {
        "id": "SNFGOA-DigWV"
      },
      "execution_count": null,
      "outputs": []
    },
    {
      "cell_type": "code",
      "source": [
        "write = Task(\n",
        "    description=(\n",
        "        \"1. Use the content plan to craft a compelling \"\n",
        "            \"essay on {topic}.\\n\"\n",
        "        \"2. Incorporate SEO keywords naturally.\\n\"\n",
        "\t\t    \"3. Sections/Subtitles are properly named \"\n",
        "            \"in an academical manner.\\n\"\n",
        "        \"4. Ensure the post is structured with an \"\n",
        "            \"engaging introduction, insightful body, \"\n",
        "            \"and a summarizing conclusion.\\n\"\n",
        "        \"5. Make sure that each presented argument is supported by a proper citation.\\n\"\n",
        "        \"6. Proofread for grammatical errors and \"\n",
        "            \"alignment with the academical style.\\n\"\n",
        "        \"7. Include a list of used sources used.\\n\"\n",
        "    ),\n",
        "    expected_output=\"A well-written essay \"\n",
        "        \"in markdown format, ready for publication, \"\n",
        "        \"each section should have 2 or 3 paragraphs. At the end, there should be a list of sources used. \"\n",
        "        \"The answer should include only the essay and list of sources, without any additional information.\",\n",
        "    agent=writer,\n",
        ")"
      ],
      "metadata": {
        "id": "5MeiaH0zigw1"
      },
      "execution_count": null,
      "outputs": []
    },
    {
      "cell_type": "code",
      "source": [
        "edit = Task(\n",
        "    description=(\n",
        "        \"1. Review the essay on the topic: {topic} for coherence, readability, and alignment with the organization's writing style.\\n\"\n",
        "        \"2. Ensure the essay:\\n\"\n",
        "        \"   - Analyzes the topic thoroughly and defines arguments clearly.\\n\"\n",
        "        \"   - Uses evidence and reasoning to support each argument.\\n\"\n",
        "        \"   - Avoids major controversial topics or opinions unless explicitly required.\\n\"\n",
        "        \"   - Provides balanced viewpoints where applicable.\\n\"\n",
        "        \"3. Verify the existence and relevance of all cited sources.\\n\"\n",
        "        \"4. Check whether all sources are cited in proper MLA format.\\n\"\n",
        "        \"5. Proofread the essay for grammatical accuracy, stylistic consistency, and adherence to best practices in essay writing.\\n\"\n",
        "        \"6. Ensure the final content is engaging, error-free, and ready for publication.\\n\"\n",
        "    ),\n",
        "    expected_output=(\n",
        "        \"A polished and edited essay with:\\n\"\n",
        "        \"- Improved coherence and alignment with the organization's writing style.\\n\"\n",
        "        \"- Verified and properly formatted MLA citations.\\n\"\n",
        "        \"- Balanced arguments supported by evidence and reasoning.\\n\"\n",
        "        \"- Grammatical and stylistic accuracy.\\n\"\n",
        "        \"The output should only include the essay and list of resource, without any additional information.\"\n",
        "    ),\n",
        "    agent=editor,\n",
        ")"
      ],
      "metadata": {
        "id": "8qW0UUOZjpDk"
      },
      "execution_count": null,
      "outputs": []
    },
    {
      "cell_type": "markdown",
      "source": [
        "**Zadanie 2**\n",
        "\n",
        "**Napisz zadanie manage_citations. Zadanie powinno polegać na: po pierwsze, zweryfikowaniu źródeł z eseju, sformatowaniu ich w odpowiedni sposób stosując format MLA, dobrym zorganizowaniu sformatowanych źródeł. Efektem zadania powinna być własnie taka odpowiednio sformatowana lista i poprawnie sformatowane cytowania w tekście. Przypisz do zadania agenta `citation_manager`.**"
      ],
      "metadata": {
        "id": "OJpetpLHjpUu"
      }
    },
    {
      "cell_type": "code",
      "source": [
        "manage_citations = Task(\n",
        "    ...\n",
        ")"
      ],
      "metadata": {
        "id": "4UsERpk3kY-I"
      },
      "execution_count": null,
      "outputs": []
    },
    {
      "cell_type": "markdown",
      "source": [
        "## Tworzenie crew\n",
        "\n",
        "Mając już określonych agentów oraz zadania musimy skonstrkuować crew.\n",
        "\n",
        "**Zadanie 3**\n",
        "\n",
        "**Stwórz crew do pisania eseju uzupełniając parametry `agents` i `tasks`. Te parametry przyjmują listy odpowiednio agentów lub tasków. Przy taskach, wypisz zadania w odpowiedniej kolejności, tak aby proces przebiegł prawidłowo. Dodatkowo ustaw zmiennę `verbose=True`**\n"
      ],
      "metadata": {
        "id": "zTJdr9MtkayR"
      }
    },
    {
      "cell_type": "code",
      "source": [
        "crew = Crew(\n",
        "    agents=...,\n",
        "    tasks=...,\n",
        "    verbose=True,\n",
        "    process=Process.sequential\n",
        ")"
      ],
      "metadata": {
        "id": "M9VTKzE6kZaI"
      },
      "execution_count": null,
      "outputs": []
    },
    {
      "cell_type": "markdown",
      "source": [
        "## Pisanie eseju\n",
        "\n",
        "Teraz zobaczymy jak nasz system radzi sobie z zadaniem.\n",
        "\n",
        "**Zadanie 4**\n",
        "\n",
        "**Wybierz dowolny temat eseju.**"
      ],
      "metadata": {
        "id": "_S65OqXfmMkf"
      }
    },
    {
      "cell_type": "code",
      "source": [
        "essay_topic = ...\n",
        "\n",
        "result = crew.kickoff(inputs={\"topic\": essay_topic})"
      ],
      "metadata": {
        "id": "KLEUC5XAmL7m"
      },
      "execution_count": null,
      "outputs": []
    },
    {
      "cell_type": "markdown",
      "source": [
        "Zobaczmy teraz jak wygląda nasz esej."
      ],
      "metadata": {
        "id": "gDgPVV68k_aK"
      }
    },
    {
      "cell_type": "code",
      "source": [
        "from IPython.display import Markdown\n",
        "Markdown(str(result))"
      ],
      "metadata": {
        "id": "gQ0-G3gDmkfs"
      },
      "execution_count": null,
      "outputs": []
    },
    {
      "cell_type": "markdown",
      "source": [
        "## Procesy hierarchiczne\n",
        "\n",
        "Póki co korzystaliśmy tylko z procesu sekwencyjnego i dokładnie musieliśmy określić każde z zadań. Teraz spróbujemy użyć dodatkowego agenta -- managera, który będzie zarządzał pozostałymi agentami, w celu napisania eseju.\n",
        "\n",
        "Nie będziemy tutaj musieli tak dokładnie rozpisywać zadań. Określimy tylko ogólne zadanie \"pisanie eseju\", a resztą zajmie się manager.\n",
        "\n",
        "**Możesz dostosować opis managera, żeby był bardziej dopasowany do konkretnego zadania pisania eseju.**"
      ],
      "metadata": {
        "id": "U0SNvdYSAh4i"
      }
    },
    {
      "cell_type": "code",
      "source": [
        "MODEL_NAME_MANAGER = 'openrouter/openai/gpt-3.5-turbo'"
      ],
      "metadata": {
        "id": "XE_9KPxSQSKy"
      },
      "execution_count": null,
      "outputs": []
    },
    {
      "cell_type": "code",
      "source": [
        "manager = Agent(\n",
        "    role=\"Project Manager\",\n",
        "    goal=\"Efficiently manage the crew and ensure high-quality task completion by delegating the tasks. \",\n",
        "    backstory=(\n",
        "        \"You are an experienced project manager, \"\n",
        "        \"skilled in overseeing complex projects and \"\n",
        "        \"guiding teams to success. \"\n",
        "        \"Your role is to coordinate the efforts of all of the crew members, \"\n",
        "        \"ensuring that each task is completed to the highest standard.\"\n",
        "        \"You should use the expertise of the other crew members to correctly perform smaller tasks.  \"\n",
        "        \"You are very busy and should not perform any task on your own, just focus on proper delegation.\"\n",
        "    ),\n",
        "    allow_delegation=True,\n",
        "    verbose=True,\n",
        "    max_iterations=15,\n",
        "    llm=LLM(\n",
        "        model=MODEL_NAME_MANAGER,\n",
        "        api_key=os.getenv(\"OPENAI_API_KEY\"),\n",
        "        base_url=API_BASE,\n",
        "        temperature=0.7,\n",
        "    )\n",
        ")"
      ],
      "metadata": {
        "id": "QruEn0MnO_XS"
      },
      "execution_count": null,
      "outputs": []
    },
    {
      "cell_type": "code",
      "source": [
        "task = Task(\n",
        "    description=(\n",
        "        \"Write an essay on the given topic: {topic}. \"\n",
        "        \"The essay should adhere to the rules of writing a good essay. \"\n",
        "        \"The essay should be well-writted and have a clear structure. \"\n",
        "        \"Each section of the essay should have 2 to 3 paragraphs. \"\n",
        "        \"Each argument presented in the essay should be supported by a proper and relevant citation. \"\n",
        "        \"The citations should be fatually accurate and the sources should exist. \"\n",
        "        \"At the end of the essay, there should be a list of used sources in the MLA citation style \"\n",
        "        \"with the help of Citation Manager. \"\n",
        "        \"The essay should be verified by the Editor before final submission. \"\n",
        "    ),\n",
        "    expected_output=(\n",
        "        \"A well-written essay \"\n",
        "        \"in markdown format, ready for publication, \"\n",
        "        \"each section should have 2 or 3 paragraphs. In the end, there should be a list of sources used. \"\n",
        "        \"The output should only include the essay and list of resource, without any additional information. \"\n",
        "    ),\n",
        ")"
      ],
      "metadata": {
        "id": "mo16JZLFPenp"
      },
      "execution_count": null,
      "outputs": []
    },
    {
      "cell_type": "markdown",
      "source": [
        "Jak widać, w taki sposób możemy zaoszczędzić dużo wysiłku na pisanie samego procesu. Udało nam się streścić główny zamysł w jednym zadaniu i liczymy na to, że resztą zajmie się manager.\n",
        "\n",
        "Pora na zdefiniowanie crew. Tutaj właśnie użyjemy procesu hierarchicznego."
      ],
      "metadata": {
        "id": "yH7DvXenlQMW"
      }
    },
    {
      "cell_type": "markdown",
      "source": [
        "**Zadanie 5**\n",
        "\n",
        "**Stwórz crew do pisania eseju, wykorzysując proces hierarchiczny. Pamiętaj, że agent `manager` nie powinien być wpisany w listę agentów -- poszukaj w [dokumentacji crewAI](https://docs.crewai.com/concepts/crews), w jaki sposób go użyć. Crew powinna otrzymać tylko jedengo taska (tego zdefiniowanego powyżej).**"
      ],
      "metadata": {
        "id": "qWDLlSHIlNwX"
      }
    },
    {
      "cell_type": "code",
      "source": [
        "crew = Crew(\n",
        "    ...\n",
        ")"
      ],
      "metadata": {
        "id": "uon8sMRLPZFQ"
      },
      "execution_count": null,
      "outputs": []
    },
    {
      "cell_type": "markdown",
      "source": [
        "Użyjemy tego samego tematu, co poprzednio."
      ],
      "metadata": {
        "id": "umTQ0NwHmi3h"
      }
    },
    {
      "cell_type": "code",
      "source": [
        "result = crew.kickoff(inputs={\"topic\": essay_topic})"
      ],
      "metadata": {
        "id": "h5FDPBi1WKJp"
      },
      "execution_count": null,
      "outputs": []
    },
    {
      "cell_type": "markdown",
      "source": [
        "Niewykluczone, że w pewnym momencie zobaczyłeś/zobaczyłaś błąd, informujący o problemie z delegacją zadania lub nasz manager nie wykorzystał pełnego potencjału crew. Należy pamiętać, że mimo wszystko mamy do czynienia z LLMami -- czasami taki model nie dostosuje się do formatu, którego oczekuje crewAI, co potencjalnie doprowadzi do błędu. Dodatkowo, LLM może pójść na skróty lub zgubić się ze własnym rozumowaniu, przez co nie oddeleguje zadań w pełni poprawnie."
      ],
      "metadata": {
        "id": "WNY8Tjacm_qL"
      }
    },
    {
      "cell_type": "code",
      "source": [
        "from IPython.display import Markdown\n",
        "Markdown(str(result))"
      ],
      "metadata": {
        "id": "p4cU5LYDPwlJ"
      },
      "execution_count": null,
      "outputs": []
    },
    {
      "cell_type": "markdown",
      "source": [
        "**Zadanie 6**\n",
        "\n",
        "**Którym sposobem otrzymaliśmy lepszy esej? Czy eseje mocno różnią się od siebie? Możesz też porównać esej wygenerowany przy pomocy crew z esejem, który otrzymasz używając ChataGPT (najlepiej z gpt-4o-mini).**"
      ],
      "metadata": {
        "id": "nWQR7rfVmn2t"
      }
    }
  ]
}